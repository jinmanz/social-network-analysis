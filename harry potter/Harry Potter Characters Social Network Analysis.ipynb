{
 "cells": [
  {
   "cell_type": "markdown",
   "metadata": {},
   "source": [
    "This notebook shows the SNA on Harry Potter series.\n",
    "- First, I will introduce how to impletement this:\n",
    "- I divide the text(book) in paragraphs. Then, I count and record the characters in the whole text in person_counter. How to make sure if two characters have a relationship? In this analysis, if two characters appear in one paragragh, we say they have a relationship."
   ]
  },
  {
   "cell_type": "code",
   "execution_count": 1,
   "metadata": {
    "collapsed": true
   },
   "outputs": [],
   "source": [
    "# Define three varibles:\n",
    "#person_counter calculate the total appearence of a character in the txt.\n",
    "#person_per_line records the characters appear in one paragragh. \n",
    "#relationships records undirected relationship between characters.\n",
    "import codecs\n",
    "from nltk.tokenize import word_tokenize\n",
    "from collections import defaultdict\n",
    "\n",
    "person_counter = defaultdict(int)  \n",
    "person_per_line = []\n",
    "relationships = {}"
   ]
  },
  {
   "cell_type": "markdown",
   "metadata": {},
   "source": [
    "- Here is a namelist of tha characters (popular characters), which is to be used later."
   ]
  },
  {
   "cell_type": "code",
   "execution_count": 2,
   "metadata": {
    "collapsed": true
   },
   "outputs": [],
   "source": [
    "namelist = ['Harry', 'Hermione', 'Ron','Sirius','Cho','Colin','Argus','Morfin','Luna','Draco','James','Lily','Fred','George','Ginny','Molly','Oliver','Dumbledore','Voldemort','Peeves','Percy','Snape']"
   ]
  },
  {
   "cell_type": "code",
   "execution_count": 3,
   "metadata": {
    "collapsed": true
   },
   "outputs": [],
   "source": [
    "# open the text file\n",
    "file_object = codecs.open('HP1.txt','r','utf-8')\n",
    "\n",
    "# divide the text into paragraghs\n",
    "for line in file_object:\n",
    "    # tokenize each paragragh\n",
    "    poss = word_tokenize(line)\n",
    "    # for each paragragh, we append a list in the list: person_per_line. \n",
    "    #The list will record the characters appearing in the current paragragh. \n",
    "    person_per_line.append([])\n",
    "    # if a word is not a character name, then continue;\n",
    "    # else, store the name in the last list in person_per_line.\n",
    "    for w in poss:\n",
    "        if w not in namelist:\n",
    "            continue\n",
    "        person_per_line[-1].append(w)\n",
    "    #if the word is not in the person_counter, which means the relationship start with this name does not exist,then add the name to the relationship dictionary.\n",
    "        if person_counter.get(w) is None: #Python 字典(Dictionary) get() 函数返回指定键的值，如果值不在字典中返回默认值None\n",
    "            relationships[w] = {}\n",
    "    # else, the key of person_counter[w] + 1\n",
    "        person_counter[w] +=1\n"
   ]
  },
  {
   "cell_type": "markdown",
   "metadata": {},
   "source": [
    "- Next is to calcualte the relationships."
   ]
  },
  {
   "cell_type": "code",
   "execution_count": 4,
   "metadata": {},
   "outputs": [
    {
     "name": "stdout",
     "output_type": "stream",
     "text": [
      "start to process edges\n"
     ]
    }
   ],
   "source": [
    "print \"start to process edges\"\n",
    "#遍历每一段，笛卡尔积形式统计人物关系\n",
    "# p is a list in person_per_line, if name1 and name 2 both in p, and name1 != name2, then add a relationship to the dictionary. \n",
    "for p in person_per_line:\n",
    "    for name1 in p:\n",
    "        for name2 in p:\n",
    "            if name1 == name2:\n",
    "                continue\n",
    "            if relationships[name1].get(name2) is None:\n",
    "                relationships[name1][name2] = 1\n",
    "            else:\n",
    "                relationships[name1][name2] +=1"
   ]
  },
  {
   "cell_type": "markdown",
   "metadata": {},
   "source": [
    "- At last, the results will be output in csv files. "
   ]
  },
  {
   "cell_type": "code",
   "execution_count": 5,
   "metadata": {
    "collapsed": true
   },
   "outputs": [],
   "source": [
    "# for nodes.csv, name in person_counter is Id and Label, and the frequency of each character is Weight.\n",
    "with codecs.open(\"node.csv\",\"a+\",\"utf-8\") as f:\n",
    "    f.write(\"Id,Label,Weight\\r\\n\")\n",
    "    for name, times in person_counter.items():\n",
    "        f.write(name+\",\"+name+\",\"+str(times)+\"\\r\\n\")\n",
    "# for edge.csv, name in relationships{} is         \n",
    "with codecs.open(\"edge.csv\",\"a+\",\"utf-8\") as f:\n",
    "    f.write(\"Source,Target,Weight\\r\\n\")\n",
    "    # name is the key(Source), and edges is the value of name. edges is also a dictionary, which stores the target names and the weight of each target.\n",
    "    for name, edges in relationships.items():\n",
    "        # v is the target name, w is the weight.\n",
    "        for v,w in edges.items():\n",
    "            #\n",
    "            if w >3:\n",
    "                f.write(name+\",\"+ v + \",\" + str(w) + \"\\r\\n\")"
   ]
  },
  {
   "cell_type": "markdown",
   "metadata": {},
   "source": [
    "- Following is the network in Harry Potter and The Philosopher's Stone. \n",
    "<img src=\"HP1.png\">"
   ]
  },
  {
   "cell_type": "markdown",
   "metadata": {},
   "source": [
    "- Following is the network in Harry Potter and The Chamber of Secrets. \n",
    "<img src=\"HP2.png\">"
   ]
  },
  {
   "cell_type": "markdown",
   "metadata": {},
   "source": [
    "- Following is the network in Harry Potter and The Prisoner of Azkaban. Sirius becomes one of the salience in this network ,and Cho appears.\n",
    "<img src=\"HP3.png\">"
   ]
  },
  {
   "cell_type": "markdown",
   "metadata": {},
   "source": [
    "References:\n",
    "\n"
   ]
  }
 ],
 "metadata": {
  "kernelspec": {
   "display_name": "Python 2",
   "language": "python",
   "name": "python2"
  },
  "language_info": {
   "codemirror_mode": {
    "name": "ipython",
    "version": 2
   },
   "file_extension": ".py",
   "mimetype": "text/x-python",
   "name": "python",
   "nbconvert_exporter": "python",
   "pygments_lexer": "ipython2",
   "version": "2.7.13"
  }
 },
 "nbformat": 4,
 "nbformat_minor": 2
}
